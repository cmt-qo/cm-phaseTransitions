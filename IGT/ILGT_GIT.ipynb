{
 "cells": [
  {
   "cell_type": "code",
   "execution_count": 1,
   "metadata": {},
   "outputs": [
    {
     "name": "stderr",
     "output_type": "stream",
     "text": [
      "/cluster/apps/python/3.6.4/lib64/python3.6/site-packages/h5py/__init__.py:36: FutureWarning: Conversion of the second argument of issubdtype from `float` to `np.floating` is deprecated. In future, it will be treated as `np.float64 == np.dtype(float).type`.\n",
      "  from ._conv import register_converters as _register_converters\n",
      "Using TensorFlow backend.\n"
     ]
    }
   ],
   "source": [
    "from keras.models import Model\n",
    "from keras.layers import Input, Dense, Conv2D, Flatten\n",
    "import keras as keras\n",
    "import h5py\n",
    "import numpy as np\n",
    "import matplotlib.pyplot as plt"
   ]
  },
  {
   "cell_type": "markdown",
   "metadata": {},
   "source": [
    "# Energy distribution based estimation"
   ]
  },
  {
   "cell_type": "code",
   "execution_count": 2,
   "metadata": {},
   "outputs": [],
   "source": [
    "N = 12 # The configurations have NxN plaquettes and NxNx2 spins\n",
    "beta_list = np.linspace(0,5,101) # Beta values used for the creation of the configurations\n",
    "n_splits = 5 # The data is split in to n_splits datasets to estimate data dependant variations"
   ]
  },
  {
   "cell_type": "markdown",
   "metadata": {},
   "source": [
    "#### Helper functions"
   ]
  },
  {
   "cell_type": "code",
   "execution_count": 3,
   "metadata": {},
   "outputs": [],
   "source": [
    "def get_energy_from_spins(spins):\n",
    "    \"\"\"Computes the energy of an array of ILGT configs using J=1\n",
    "\n",
    "    Parameters:\n",
    "    spins (ndarray): ILGT configs: 4D array of the shape (number_of_configs,N,N,2)\n",
    "\n",
    "    Returns:\n",
    "    ndarray: array with the energy of each config\n",
    "\n",
    "    \"\"\"\n",
    "    N = spins.shape[1]\n",
    "    assert spins.shape[1:] == (N,N,2)\n",
    "    \"\"\"  \n",
    "    How spins are labled on the plaquettes\n",
    "    \n",
    "         _|___(i_up,j,0)___|_\n",
    "          |                |\n",
    "          |                |\n",
    "          |                |\n",
    "    (i,j_left,1)        (i,j,1)\n",
    "          |                |\n",
    "          |                |\n",
    "         _|_____(i,j,0)____|_\n",
    "          |                |\n",
    "    \"\"\"\n",
    "    energy = np.zeros(spins.shape[0])\n",
    "    for i in range(N):\n",
    "        # get the index of the plaquette above using periodic bc\n",
    "        i_up = (i + N - 1) % N\n",
    "        for j in range(N):\n",
    "            # get the index of the plaquette to the left using periodic bc\n",
    "            j_left = (N + j - 1) % N\n",
    "            # Add the energy of the packet at position (i,j)\n",
    "            energy[:] += (spins[:, i, j, 0] *\n",
    "                         spins[:, i_up, j, 0] *\n",
    "                         spins[:, i, j, 1] *\n",
    "                         spins[:, i, j_left, 1])\n",
    "    \n",
    "    return -energy # overall minus sign coming fromg H = - J * ..."
   ]
  },
  {
   "cell_type": "markdown",
   "metadata": {},
   "source": [
    "### Compute energy distribution"
   ]
  },
  {
   "cell_type": "code",
   "execution_count": 4,
   "metadata": {},
   "outputs": [],
   "source": [
    "# Load generated configurations\n",
    "data = np.load(\"Configs_N=%d.npy\"%N) \n",
    "# data has shape (number_of_beta_values, number_of_configs, N, N, 2)"
   ]
  },
  {
   "cell_type": "code",
   "execution_count": 5,
   "metadata": {},
   "outputs": [],
   "source": [
    "# Compute energy of each configuration\n",
    "E_data = np.zeros((data.shape[:2]))\n",
    "for b in range(beta_list.shape[0]):\n",
    "    E_data[b] = get_energy_from_spins(data[b])\n",
    "E_min = np.min(E_data)\n",
    "E_max = np.max(E_data)\n",
    "delta_E = 4 # the difference between two neighbouring energy levels is allways 4J (4 if J = 1)\n",
    "E_list = np.arange(E_min,E_max+4,4) # List of all possible generated energies "
   ]
  },
  {
   "cell_type": "code",
   "execution_count": 6,
   "metadata": {},
   "outputs": [],
   "source": [
    "# Compute energy distribution for each beta\n",
    "E_distribution = np.zeros((beta_list.shape[0],E_list.shape[0]))\n",
    "for b in range(beta_list.shape[0]):\n",
    "    for e in range(E_list.shape[0]):\n",
    "        # E_distribution[b,e] is the proportion of configs generated with beta=beta_list[b] \n",
    "        # which have the energy E_list[e]\n",
    "        E_distribution[b,e] = np.mean(E_data[b] == E_list[e])"
   ]
  },
  {
   "cell_type": "code",
   "execution_count": 7,
   "metadata": {},
   "outputs": [],
   "source": [
    "# Split the data into 5 data sets each containing a training set and a test set\n",
    "n_train = E_data.shape[1] // (2*n_splits)\n",
    "n_test = E_data.shape[1] // (2*n_splits)\n",
    "n_configs_per_split = n_train + n_test"
   ]
  },
  {
   "cell_type": "code",
   "execution_count": 8,
   "metadata": {},
   "outputs": [],
   "source": [
    "# Compute energy distribution for each dataset\n",
    "E_distribution = np.zeros((n_splits, beta_list.shape[0], E_list.shape[0]))\n",
    "for i in range(n_splits):\n",
    "    E_train = E_data[:,i * n_configs_per_split : i * n_configs_per_split + n_train]\n",
    "    E_test = E_data[:,i * n_configs_per_split + n_train : i * n_configs_per_split + n_train + n_test]\n",
    "    for b in range(beta_list.shape[0]):\n",
    "        for e in range(E_list.shape[0]):\n",
    "            # E_distribution[i,0,b,e] is the proportion of configs generated with beta=beta_list[b] \n",
    "            # which have the energy E_list[e] in the train set of data set i\n",
    "            \n",
    "            E_distribution[i,b,e] = np.mean(E_train[b] == E_list[e])"
   ]
  },
  {
   "cell_type": "markdown",
   "metadata": {},
   "source": [
    "### Plot the energy distribution"
   ]
  },
  {
   "cell_type": "code",
   "execution_count": 9,
   "metadata": {
    "scrolled": true
   },
   "outputs": [
    {
     "data": {
      "image/png": "[encoded data removed]",
      "text/plain": [
       "<Figure size 864x720 with 2 Axes>"
      ]
     },
     "metadata": {},
     "output_type": "display_data"
    }
   ],
   "source": [
    "# Plot energy distribution of a single training dataset\n",
    "fig, ax = plt.subplots(nrows=1, figsize=(12,10))\n",
    "delta_beta = beta_list[1] - beta_list[0]\n",
    "p = ax.imshow(E_distribution[0], \n",
    "              extent=[E_min - delta_E / 2,E_max + delta_E / 2,\n",
    "                      beta_list[0] - delta_beta / 2,beta_list[-1] + delta_beta / 2],\n",
    "              aspect='auto',\n",
    "              origin='lower')\n",
    "ax.set_xlabel(\"Energy\")\n",
    "ax.set_ylabel(\"$ \\\\beta J $\")\n",
    "ax.set_title(\"Energy distribution N=%d\"%N)\n",
    "plt.colorbar(p,ax=ax)\n",
    "ax.xaxis.set_major_locator(plt.MaxNLocator(steps=[4])) # Increment ticks in step of 4 if possible"
   ]
  },
  {
   "cell_type": "markdown",
   "metadata": {},
   "source": [
    "### Compute predictions from training data for test data"
   ]
  },
  {
   "cell_type": "code",
   "execution_count": 10,
   "metadata": {
    "scrolled": true
   },
   "outputs": [
    {
     "name": "stdout",
     "output_type": "stream",
     "text": [
      "dataset 0: interpolate at indexes [47, 48, 49] of 49\n",
      "dataset 1: interpolate at indexes [47, 48, 49] of 49\n",
      "dataset 2: interpolate at indexes [48, 49] of 49\n",
      "dataset 3: interpolate at indexes [46, 48, 49] of 49\n",
      "dataset 4: interpolate at indexes [46, 47, 48, 49] of 49\n"
     ]
    }
   ],
   "source": [
    "predicted_beta_test = np.zeros((n_splits,E_test.shape[0],E_test.shape[1]))\n",
    "predicted_beta_test_mean = np.zeros((n_splits,beta_list.shape[0]))\n",
    "divergence = np.zeros((n_splits, beta_list.shape[0]-2))  \n",
    "beta_from_energy = np.zeros((n_splits, E_list.shape[0]))\n",
    "\n",
    "def interpolation_factor(i,n):\n",
    "    product=1\n",
    "    for k in range(1,n+1):\n",
    "        if k !=i:\n",
    "            product *= k/(k-i)\n",
    "    return product\n",
    "n=0\n",
    "interpolation_factors = [interpolation_factor(l,n) for l in range(1,n+1)]\n",
    "\n",
    "for i in range(n_splits):\n",
    "    E_train = E_data[:,i * n_configs_per_split : i * n_configs_per_split + n_train]\n",
    "    E_test = E_data[:,i * n_configs_per_split + n_train : i * n_configs_per_split + n_train + n_test]\n",
    "\n",
    "    is_energy_in_training_set = np.sum(E_distribution[i],axis=0) != 0\n",
    "    \n",
    "    # compute lookup table for average beta of the configuration with a given energy using \n",
    "    # the energy distribution of the training dataset\n",
    "    \n",
    "    interpolated_indexes = []\n",
    "    for e in range(E_list.shape[0]):\n",
    "        if is_energy_in_training_set[e]:\n",
    "            beta_from_energy[i,e] = np.average(beta_list,weights=E_distribution[i,:,e])\n",
    "        \n",
    "        # Make linear interpolation if energy not present in training set \n",
    "        # This happens only at high energies / high temperatures\n",
    "        else:\n",
    "            assert e >= 2\n",
    "            interpolated_indexes.append(e)\n",
    "            beta_from_energy[i,e] = max(2 * beta_from_energy[i,e-1] - beta_from_energy[i,e-2],0)\n",
    "    print(\"dataset %d: interpolate at indexes %s of %d\"%(i, str(interpolated_indexes),E_list.shape[0]-1))\n",
    "    \n",
    "    # based on lookup table predict most likely beta for each config in test set\n",
    "    for e in range(E_list.shape[0]):\n",
    "        predicted_beta_test[i][E_test == E_list[e]] = beta_from_energy[i,e]\n",
    "    \n",
    "    # compute average predicted beta for each beta\n",
    "    predicted_beta_test_mean[i] = predicted_beta_test[i].mean(axis=1)\n",
    "    # predicted_beta_train_mean[i] = predicted_beta_train[i].mean(axis=1)\n",
    "    \n",
    "    # compute divergence of average predicted beta by central difference scheme\n",
    "    h = beta_list[1]-beta_list[0]\n",
    "    for b in range(1,beta_list.shape[0]-1):\n",
    "        divergence[i,b-1] = (predicted_beta_test_mean[i,b+1] - predicted_beta_test_mean[i,b-1]) / (2*h)"
   ]
  },
  {
   "cell_type": "markdown",
   "metadata": {},
   "source": [
    "### Plot predictions from training data for test data"
   ]
  },
  {
   "cell_type": "code",
   "execution_count": 11,
   "metadata": {},
   "outputs": [
    {
     "data": {
      "text/plain": [
       "Text(0.5,1,'Energy distribution based estimation')"
      ]
     },
     "execution_count": 11,
     "metadata": {},
     "output_type": "execute_result"
    },
    {
     "data": {
      "image/png": "[encoded data removed]",
      "text/plain": [
       "<Figure size 432x288 with 1 Axes>"
      ]
     },
     "metadata": {},
     "output_type": "display_data"
    }
   ],
   "source": [
    "# Plot average predicted beta for each beta averaged over all datasets\n",
    "# The error is based on variations over the 5 datasets \n",
    "# (Strong line with error bars)\n",
    "p = plt.errorbar(beta_list, np.mean(predicted_beta_test_mean,axis=0),\n",
    "                 np.std(predicted_beta_test_mean,axis=0), \n",
    "                 label=\"N=%d\"%N)\n",
    "\n",
    "# Plot average divergence\n",
    "# (Dashed line)\n",
    "plt.plot(beta_list[1:-1], np.mean(divergence,axis=0),'--',c=p[0].get_color())\n",
    "\n",
    "# Plot divergence of each datset\n",
    "# (faint lines)\n",
    "for i in range(n_splits):\n",
    "    plt.plot(beta_list[1:-1], divergence[i],alpha=0.3, \n",
    "             c=p[0].get_color()\n",
    "            )\n",
    "# get max_index of divergence for each dataset\n",
    "i_max = np.argmax(divergence,axis=1)\n",
    "\n",
    "# Plot maximum of divergence by averaging the maximum of divergence of each dataset\n",
    "plt.errorbar([np.mean(beta_list[1:-1][i_max])],\n",
    "             [np.mean(divergence[np.arange(n_splits),i_max])], \n",
    "             xerr=[np.std(beta_list[1:-1][i_max])], \n",
    "             yerr=[np.std(divergence[np.arange(n_splits),i_max])], \n",
    "             fmt='o', c=p[0].get_color())\n",
    "plt.legend()\n",
    "plt.title(\"Energy distribution based estimation\")"
   ]
  },
  {
   "cell_type": "markdown",
   "metadata": {},
   "source": [
    "# Neural Network based estimation"
   ]
  },
  {
   "cell_type": "code",
   "execution_count": 2,
   "metadata": {},
   "outputs": [],
   "source": [
    "N = 12 # The configurations have NxN plaquettes and NxNx2 spins\n",
    "beta_list = np.linspace(0,5,101) # Beta values used for the creation of the configurations\n",
    "n_splits = 5 # The data is split in to n_splits datasets to estimate data dependant variations\n"
   ]
  },
  {
   "cell_type": "markdown",
   "metadata": {},
   "source": [
    "### Model setup"
   ]
  },
  {
   "cell_type": "code",
   "execution_count": 3,
   "metadata": {},
   "outputs": [],
   "source": [
    "#Setup the Keras Model \n",
    "inpt = Input((N,N,2))\n",
    "x = Conv2D(128,(3,3),activation='relu',padding='same')(inpt) \n",
    "x = Conv2D(128,(3,3),activation='relu',padding='same')(x) \n",
    "x = Flatten()(x)\n",
    "x = Dense(300,activation='relu')(x)\n",
    "x = Dense(100,activation='relu')(x)\n",
    "x = Dense(1)(x)\n",
    "\n",
    "model = Model(inpt,x)\n",
    "model.compile('adam','mse')"
   ]
  },
  {
   "cell_type": "markdown",
   "metadata": {},
   "source": [
    "### Load data and labels"
   ]
  },
  {
   "cell_type": "code",
   "execution_count": 4,
   "metadata": {},
   "outputs": [],
   "source": [
    "# Load generated configurations\n",
    "data = np.load(\"Configs_N=%d.npy\"%N) \n",
    "# data has shape (number_of_beta_values, number_of_configs, N, N, 2)\n",
    "\n",
    "# The label of each configuration is the beta used at the generation\n",
    "lables = np.zeros((data.shape[0], data.shape[1]))\n",
    "for b,beta in enumerate(beta_list):\n",
    "    lables[b] = [beta for _ in range(data.shape[1])]"
   ]
  },
  {
   "cell_type": "code",
   "execution_count": 5,
   "metadata": {
    "scrolled": true
   },
   "outputs": [],
   "source": [
    "# Split the data into 5 data sets each containing a training set and a test set\n",
    "n_train = data.shape[1] // (2*n_splits)\n",
    "n_test = data.shape[1] // (2*n_splits)\n",
    "n_configs_per_split = n_train + n_test\n",
    "\n",
    "# split the data and labels into 5 distinct training adn test sets\n",
    "data_dict = {}\n",
    "for i in range(n_splits):\n",
    "    X_train = data[:,i * n_configs_per_split : i * n_configs_per_split + n_train].reshape(-1,N,N,2)\n",
    "    Y_train = lables[:,i * n_configs_per_split : i * n_configs_per_split + n_train].reshape(-1)\n",
    "    X_test = data[:,i * n_configs_per_split + n_train : \n",
    "                       i * n_configs_per_split + n_train + n_test].reshape(-1,N,N,2)\n",
    "    Y_test =  lables[:,i * n_configs_per_split + n_train :\n",
    "                       i * n_configs_per_split + n_train + n_test].reshape(-1)\n",
    "    perm = np.arange(Y_train.shape[0])\n",
    "    np.random.shuffle(perm)\n",
    "    X_train = X_train[perm]\n",
    "    Y_train=Y_train[perm]\n",
    "\n",
    "    # Save test and training samples in data_dict\n",
    "    data_dict[i] = {\n",
    "        'X_train' : X_train,\n",
    "        'Y_train' : Y_train,\n",
    "        'X_test' : X_test,\n",
    "        'Y_test' : Y_test,\n",
    "    }"
   ]
  },
  {
   "cell_type": "markdown",
   "metadata": {},
   "source": [
    "### Make predictions with pre-trained models"
   ]
  },
  {
   "cell_type": "code",
   "execution_count": 6,
   "metadata": {},
   "outputs": [
    {
     "name": "stdout",
     "output_type": "stream",
     "text": [
      "i = 0\n",
      "i = 1\n",
      "i = 2\n",
      "i = 3\n",
      "i = 4\n"
     ]
    }
   ],
   "source": [
    "# For each dataset load parameters of model which was trained on the corresponding training set\n",
    "# Evaluate for corresponding test set\n",
    "\n",
    "# In fact, for each dataset multiple models were trained. \n",
    "# The best performing one on the training data one was selected for further evaluation.\n",
    "# Here only the best performing model per dataset is loaded.\n",
    "\n",
    "predicted_beta_test_mean = np.zeros((n_splits, beta_list.shape[0] ))\n",
    "divergence = np.zeros((n_splits, beta_list.shape[0] -2))\n",
    "\n",
    "for i in range(n_splits):\n",
    "    print(\"i = %d\"%i)\n",
    "    \n",
    "    save_path = \"NN_models/beta_prediction_model_N=%d_trainingdata_%d_of_%d.h5\"%(N,i,n_splits-1)     \n",
    "    model.load_weights(save_path)\n",
    "    \n",
    "    prediction = model.predict(data_dict[i]['X_test'])\n",
    "    \n",
    "    # Compute average prediction for each beta label\n",
    "    for b, beta in enumerate(beta_list):\n",
    "        predicted_beta_test_mean[i,b] = np.mean(prediction[data_dict[i]['Y_test'] == beta])\n",
    "    \n",
    "    # Compute derivative of average prediction using central difference scheme\n",
    "    h = beta_list[1]-beta_list[0]\n",
    "    for j in range(1,beta_list.shape[0]-1):\n",
    "        divergence[i,j-1] = (predicted_beta_test_mean[i,j+1] - predicted_beta_test_mean[i,j-1])/ (2*h)\n"
   ]
  },
  {
   "cell_type": "code",
   "execution_count": 7,
   "metadata": {},
   "outputs": [
    {
     "data": {
      "text/plain": [
       "Text(0.5,1,'NN based estimation')"
      ]
     },
     "execution_count": 7,
     "metadata": {},
     "output_type": "execute_result"
    },
    {
     "data": {
      "image/png": "[encoded data removed]",
      "text/plain": [
       "<Figure size 432x288 with 1 Axes>"
      ]
     },
     "metadata": {},
     "output_type": "display_data"
    }
   ],
   "source": [
    "# Plot average predicted beta for each beta averaged over all datasets\n",
    "# The error is based on variations over the 5 datasets \n",
    "# (Strong line with error bars)\n",
    "p = plt.errorbar(beta_list, np.mean(predicted_beta_test_mean,axis=0),\n",
    "                 np.std(predicted_beta_test_mean,axis=0), \n",
    "                 label=\"N=%d\"%N)\n",
    "\n",
    "# Plot average divergence\n",
    "# (Dashed line)\n",
    "plt.plot(beta_list[1:-1], np.mean(divergence,axis=0),'--',c=p[0].get_color())\n",
    "\n",
    "# Plot divergence of each datset\n",
    "# (faint lines)\n",
    "for i in range(n_splits):\n",
    "    plt.plot(beta_list[1:-1], divergence[i],alpha=0.3, \n",
    "             c=p[0].get_color()\n",
    "            )\n",
    "# get max_index of divergence for each dataset\n",
    "i_max = np.argmax(divergence,axis=1)\n",
    "\n",
    "# Plot maximum of divergence by averaging the maximum of divergence of each dataset\n",
    "plt.errorbar([np.mean(beta_list[1:-1][i_max])],\n",
    "             [np.mean(divergence[np.arange(n_splits),i_max])], \n",
    "             xerr=[np.std(beta_list[1:-1][i_max])], \n",
    "             yerr=[np.std(divergence[np.arange(n_splits),i_max])], \n",
    "             fmt='o', c=p[0].get_color())\n",
    "plt.legend()\n",
    "plt.title(\"NN based estimation\")"
   ]
  },
  {
   "cell_type": "code",
   "execution_count": null,
   "metadata": {},
   "outputs": [],
   "source": []
  }
 ],
 "metadata": {
  "kernelspec": {
   "display_name": "Python 3",
   "language": "python",
   "name": "python3"
  },
  "language_info": {
   "codemirror_mode": {
    "name": "ipython",
    "version": 3
   },
   "file_extension": ".py",
   "mimetype": "text/x-python",
   "name": "python",
   "nbconvert_exporter": "python",
   "pygments_lexer": "ipython3",
   "version": "3.6.4"
  }
 },
 "nbformat": 4,
 "nbformat_minor": 2
}
